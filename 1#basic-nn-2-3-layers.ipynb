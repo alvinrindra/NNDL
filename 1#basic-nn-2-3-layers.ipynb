{
 "cells": [
  {
   "cell_type": "markdown",
   "metadata": {},
   "source": [
    "# Implementing a 2 and 3 layer Neural Network\n",
    "\n",
    "The code in this chapter is based on the article from http://iamtrask.github.io.\n",
    "\n",
    "And now we are going to implement basic 2 and 3 layers Neural Network."
   ]
  },
  {
   "cell_type": "code",
   "execution_count": null,
   "metadata": {},
   "outputs": [
    {
     "name": "stdout",
     "output_type": "stream",
     "text": [
      "[[-0.4841604   0.1659111   0.2957235   0.75947594]\n",
      " [-0.10429508  0.88684823 -0.58646235 -0.37150025]\n",
      " [-0.50534368 -0.15510722 -0.97379495 -0.63791436]]\n",
      "[[-0.92755439]\n",
      " [ 0.6146175 ]\n",
      " [-0.69133293]\n",
      " [ 0.29156788]]\n",
      "[[  7.93299737e-01   7.01151567e-01   5.24117282e-01   8.77515568e-02]\n",
      " [  9.61428577e-03   9.86100454e-01   3.78143929e-02   5.20870026e-05]\n",
      " [  1.82649453e-02   9.72997835e-01   9.99459120e-01   9.59938687e-01]\n",
      " [  4.70565429e-05   9.99083086e-01   9.85060733e-01   1.28094242e-02]]\n"
     ]
    }
   ],
   "source": [
    "#the codes\n",
    "import numpy as np\n",
    "\n",
    "X = np.array([ [0,0,1],[0,1,1],[1,0,1],[1,1,1] ])\n",
    "y = np.array([[0,1,1,0]]).T\n",
    "syn0 = 2*np.random.random((3,4)) - 1\n",
    "syn1 = 2*np.random.random((4,1)) - 1\n",
    "print syn0\n",
    "print syn1\n",
    "for j in xrange(60000):\n",
    "    l1 = 1/(1+np.exp(-(np.dot(X,syn0))))\n",
    "    l2 = 1/(1+np.exp(-(np.dot(l1,syn1))))\n",
    "    l2_delta = (y - l2)*(l2*(1-l2))\n",
    "    l1_delta = l2_delta.dot(syn1.T) * (l1 * (1-l1))\n",
    "    syn1 += l1.T.dot(l2_delta)\n",
    "    syn0 += X.T.dot(l1_delta)\n",
    "print l2"
   ]
  },
  {
   "cell_type": "code",
   "execution_count": null,
   "metadata": {
    "collapsed": true
   },
   "outputs": [],
   "source": [
    ""
   ]
  }
 ],
 "metadata": {
  "kernelspec": {
   "display_name": "Python 2",
   "language": "python",
   "name": "python2"
  },
  "language_info": {
   "codemirror_mode": {
    "name": "ipython",
    "version": 2.0
   },
   "file_extension": ".py",
   "mimetype": "text/x-python",
   "name": "python",
   "nbconvert_exporter": "python",
   "pygments_lexer": "ipython2",
   "version": "2.7.12"
  }
 },
 "nbformat": 4,
 "nbformat_minor": 0
}