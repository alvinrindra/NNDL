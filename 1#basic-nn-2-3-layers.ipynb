{
 "cells": [
  {
   "cell_type": "markdown",
   "metadata": {},
   "source": [
    "# Implementing a 2 and 3 layer Neural Network\n",
    "\n",
    "The code in this chapter is based on the article from http://iamtrask.github.io.\n",
    "\n",
    "And now we are going to implement basic 2 and 3 layers Neural Network."
   ]
  },
  {
   "cell_type": "code",
   "execution_count": 1,
   "metadata": {},
   "outputs": [
    {
     "name": "stdout",
     "output_type": "stream",
     "text": [
      "[[-0.15026312 -0.44991405 -0.21557312  0.78647676]\n",
      " [ 0.84262809 -0.87363201  0.71188035  0.96945682]\n",
      " [ 0.51045123 -0.79141457 -0.39499845  0.97380321]]\n",
      "[[-0.62254799]\n",
      " [ 0.47081834]\n",
      " [-0.10796858]\n",
      " [ 0.17203924]]\n",
      "[[0.00382465]\n",
      " [0.99492827]\n",
      " [0.99763832]\n",
      " [0.00440523]]\n"
     ]
    }
   ],
   "source": [
    "#the codes\n",
    "import numpy as np\n",
    "\n",
    "X = np.array([ [0,0,1],[0,1,1],[1,0,1],[1,1,1] ])\n",
    "y = np.array([[0,1,1,0]]).T\n",
    "syn0 = 2*np.random.random((3,4)) - 1\n",
    "syn1 = 2*np.random.random((4,1)) - 1\n",
    "print syn0\n",
    "print syn1\n",
    "for j in xrange(60000):\n",
    "    l1 = 1/(1+np.exp(-(np.dot(X,syn0))))\n",
    "    l2 = 1/(1+np.exp(-(np.dot(l1,syn1))))\n",
    "    l2_delta = (y - l2)*(l2*(1-l2))\n",
    "    l1_delta = l2_delta.dot(syn1.T) * (l1 * (1-l1))\n",
    "    syn1 += l1.T.dot(l2_delta)\n",
    "    syn0 += X.T.dot(l1_delta)\n",
    "print l2"
   ]
  },
  {
   "cell_type": "code",
   "execution_count": null,
   "metadata": {
    "collapsed": true
   },
   "outputs": [],
   "source": []
  }
 ],
 "metadata": {
  "kernelspec": {
   "display_name": "Python 2",
   "language": "python",
   "name": "python2"
  },
  "language_info": {
   "codemirror_mode": {
    "name": "ipython",
    "version": 2
   },
   "file_extension": ".py",
   "mimetype": "text/x-python",
   "name": "python",
   "nbconvert_exporter": "python",
   "pygments_lexer": "ipython2",
   "version": "2.7.15rc1"
  }
 },
 "nbformat": 4,
 "nbformat_minor": 1
}
