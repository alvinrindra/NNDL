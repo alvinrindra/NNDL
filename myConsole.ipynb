{
 "cells": [
  {
   "cell_type": "code",
   "execution_count": 10,
   "metadata": {},
   "outputs": [
    {
     "name": "stdout",
     "output_type": "stream",
     "text": [
      "\n",
      "Final weights:\n",
      "[[ 9.67299303]\n",
      " [-0.2078435 ]\n",
      " [-4.62963669]]\n",
      "l1:\n",
      "[[-4.62963669]\n",
      " [-4.83748019]\n",
      " [ 5.04335634]\n",
      " [ 4.83551284]\n",
      " [-4.83748019]]\n",
      " \n",
      "Final Output:\n",
      "[[ 0.009664  ]\n",
      " [ 0.00786466]\n",
      " [ 0.99358931]\n",
      " [ 0.99211997]\n",
      " [ 0.00786466]]\n"
     ]
    }
   ],
   "source": [
    "import numpy as np\n",
    "\n",
    "# sigmoid function\n",
    "def nonlin(x,deriv=False):\n",
    "    if(deriv==True):\n",
    "        return x*(1-x)\n",
    "    return 1/(1+np.exp(-x))\n",
    "    \n",
    "# input dataset\n",
    "X = np.array([  [0,0,1],\n",
    "                [0,1,1],\n",
    "                [1,0,1],\n",
    "                [1,1,1],\n",
    "                [0,1,1] ])\n",
    "    \n",
    "# output dataset            \n",
    "y = np.array([[0,0,1,1]]).T\n",
    "\n",
    "#finalWeight got from training backpropagation\n",
    "syn0 = np.array ([ \n",
    "    [ 9.67299303],\n",
    "    [-0.2078435 ],\n",
    "    [-4.62963669] ])\n",
    "\n",
    "print \"\"\n",
    "print \"Final weights:\"\n",
    "print syn0\n",
    "l1 = np.dot(X, syn0)\n",
    "print 'l1:'\n",
    "print l1\n",
    "finalOutput = nonlin(l1)\n",
    "print \" \"\n",
    "print \"Final Output:\"\n",
    "print finalOutput"
   ]
  },
  {
   "cell_type": "code",
   "execution_count": 6,
   "metadata": {},
   "outputs": [
    {
     "name": "stdout",
     "output_type": "stream",
     "text": [
      "0.574996971733\n"
     ]
    }
   ],
   "source": [
    "l1_error = y - l1\n",
    "\n",
    "l = 1/(1+np.exp(-0.30226848))\n",
    "print l"
   ]
  },
  {
   "cell_type": "code",
   "execution_count": null,
   "metadata": {
    "collapsed": true
   },
   "outputs": [],
   "source": []
  }
 ],
 "metadata": {
  "kernelspec": {
   "display_name": "Python 2",
   "language": "python",
   "name": "python2"
  },
  "language_info": {
   "codemirror_mode": {
    "name": "ipython",
    "version": 2
   },
   "file_extension": ".py",
   "mimetype": "text/x-python",
   "name": "python",
   "nbconvert_exporter": "python",
   "pygments_lexer": "ipython2",
   "version": "2.7.12"
  }
 },
 "nbformat": 4,
 "nbformat_minor": 2
}
