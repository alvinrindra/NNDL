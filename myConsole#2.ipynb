{
 "cells": [
  {
   "cell_type": "code",
   "execution_count": 1,
   "metadata": {},
   "outputs": [
    {
     "name": "stdout",
     "output_type": "stream",
     "text": [
      "Input: \n",
      "[[1 2 1]]\n",
      "\n",
      "W1: \n",
      "[[1 1 1 1 1]\n",
      " [2 2 2 2 2]\n",
      " [1 1 1 1 1]]\n",
      "\n",
      "Output-HiddenLayer: \n",
      "[[6 6 6 6 6]]\n",
      "\n",
      "W2: \n",
      "[[1]\n",
      " [1]\n",
      " [1]\n",
      " [1]\n",
      " [1]]\n",
      "\n",
      "Output-Final:\n",
      "[[30]]\n"
     ]
    }
   ],
   "source": [
    "import numpy as np\n",
    "\n",
    "J = np.array([\n",
    "    [1, 2, 1],\n",
    "])\n",
    "print \"Input: \"\n",
    "print J\n",
    "\n",
    "W1 = np.array([\n",
    "    [1, 1, 1, 1, 1],\n",
    "    [2, 2, 2, 2, 2],\n",
    "    [1, 1, 1, 1, 1]\n",
    "])\n",
    "print \"\"\n",
    "print \"W1: \"\n",
    "print W1\n",
    "\n",
    "y = J.dot(W1)\n",
    "print \"\"\n",
    "print \"Output-HiddenLayer: \"\n",
    "print y\n",
    "\n",
    "W2 = np.array([\n",
    "    [1,1,1,1,1]\n",
    "]).T\n",
    "print \"\"\n",
    "print \"W2: \"\n",
    "print W2\n",
    "\n",
    "y2 = y.dot(W2)\n",
    "print \"\"\n",
    "print \"Output-Final:\"\n",
    "print y2"
   ]
  },
  {
   "cell_type": "code",
   "execution_count": 20,
   "metadata": {},
   "outputs": [
    {
     "data": {
      "text/plain": [
       "array([1, 1, 1, 1, 1])"
      ]
     },
     "execution_count": 20,
     "metadata": {},
     "output_type": "execute_result"
    }
   ],
   "source": [
    "W1[0,:]"
   ]
  },
  {
   "cell_type": "code",
   "execution_count": null,
   "metadata": {
    "collapsed": true
   },
   "outputs": [],
   "source": []
  },
  {
   "cell_type": "code",
   "execution_count": null,
   "metadata": {
    "collapsed": true
   },
   "outputs": [],
   "source": []
  }
 ],
 "metadata": {
  "kernelspec": {
   "display_name": "Python 2",
   "language": "python",
   "name": "python2"
  },
  "language_info": {
   "codemirror_mode": {
    "name": "ipython",
    "version": 2
   },
   "file_extension": ".py",
   "mimetype": "text/x-python",
   "name": "python",
   "nbconvert_exporter": "python",
   "pygments_lexer": "ipython2",
   "version": "2.7.12"
  }
 },
 "nbformat": 4,
 "nbformat_minor": 2
}
